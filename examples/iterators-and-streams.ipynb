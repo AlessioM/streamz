{
 "cells": [
  {
   "cell_type": "markdown",
   "metadata": {},
   "source": [
    "Finite Sequences\n",
    "======"
   ]
  },
  {
   "cell_type": "code",
   "execution_count": 1,
   "metadata": {
    "collapsed": true
   },
   "outputs": [],
   "source": [
    "import json"
   ]
  },
  {
   "cell_type": "code",
   "execution_count": 2,
   "metadata": {
    "collapsed": false
   },
   "outputs": [],
   "source": [
    "data = ['{\"name\": \"Alice\", \"value\": 1}',\n",
    "        '{\"name\": \"Bob\", \"value\": 2}',\n",
    "        '{\"name\": \"Alice\", \"value\": 3}',\n",
    "        '{\"name\": \"Alice\", \"value\": 4}',\n",
    "        '{\"name\": \"Charlie\", \"value\": 5}',\n",
    "        '{\"name\": \"Bob\", \"value\": 6}',\n",
    "        '{\"name\": \"Alice\", \"value\": 7}']"
   ]
  },
  {
   "cell_type": "code",
   "execution_count": 3,
   "metadata": {
    "collapsed": false
   },
   "outputs": [
    {
     "data": {
      "text/plain": [
       "[{'name': 'Alice', 'value': 1},\n",
       " {'name': 'Bob', 'value': 2},\n",
       " {'name': 'Alice', 'value': 3},\n",
       " {'name': 'Alice', 'value': 4},\n",
       " {'name': 'Charlie', 'value': 5},\n",
       " {'name': 'Bob', 'value': 6},\n",
       " {'name': 'Alice', 'value': 7}]"
      ]
     },
     "execution_count": 3,
     "metadata": {},
     "output_type": "execute_result"
    }
   ],
   "source": [
    "seq = list(map(json.loads, data))\n",
    "seq"
   ]
  },
  {
   "cell_type": "code",
   "execution_count": 4,
   "metadata": {
    "collapsed": false
   },
   "outputs": [
    {
     "data": {
      "text/plain": [
       "[1, 2, 3, 4, 5, 6, 7]"
      ]
     },
     "execution_count": 4,
     "metadata": {},
     "output_type": "execute_result"
    }
   ],
   "source": [
    "import toolz\n",
    "seq = list(toolz.pluck('value', seq))\n",
    "seq"
   ]
  },
  {
   "cell_type": "code",
   "execution_count": 5,
   "metadata": {
    "collapsed": false,
    "scrolled": true
   },
   "outputs": [
    {
     "data": {
      "text/plain": [
       "28"
      ]
     },
     "execution_count": 5,
     "metadata": {},
     "output_type": "execute_result"
    }
   ],
   "source": [
    "sum(seq)"
   ]
  },
  {
   "cell_type": "markdown",
   "metadata": {},
   "source": [
    "Infinite Sequences\n",
    "=========="
   ]
  },
  {
   "cell_type": "code",
   "execution_count": 6,
   "metadata": {
    "collapsed": true
   },
   "outputs": [],
   "source": [
    "def infinite_data():\n",
    "    for x in data:\n",
    "        yield x\n",
    "        \n",
    "    # Here we stop, but we could keep going forever...\n",
    "    raise StopIteration"
   ]
  },
  {
   "cell_type": "code",
   "execution_count": 7,
   "metadata": {
    "collapsed": false
   },
   "outputs": [],
   "source": [
    "from operator import add\n",
    "seq = infinite_data()\n",
    "seq = map(json.loads, seq)\n",
    "seq = toolz.pluck('value', seq)\n",
    "seq = toolz.accumulate(add, seq)"
   ]
  },
  {
   "cell_type": "code",
   "execution_count": 8,
   "metadata": {
    "collapsed": false
   },
   "outputs": [
    {
     "name": "stdout",
     "output_type": "stream",
     "text": [
      "1\n",
      "3\n",
      "6\n",
      "10\n",
      "15\n",
      "21\n",
      "28\n"
     ]
    }
   ],
   "source": [
    "for item in seq:\n",
    "    print(item)"
   ]
  },
  {
   "cell_type": "markdown",
   "metadata": {},
   "source": [
    "Streams\n",
    "=====\n",
    "\n",
    "Same applications, just a different way of thinking about controlling data."
   ]
  },
  {
   "cell_type": "code",
   "execution_count": 10,
   "metadata": {
    "collapsed": false
   },
   "outputs": [],
   "source": [
    "from streams import Stream"
   ]
  },
  {
   "cell_type": "code",
   "execution_count": 11,
   "metadata": {
    "collapsed": true
   },
   "outputs": [],
   "source": [
    "L = []"
   ]
  },
  {
   "cell_type": "code",
   "execution_count": 12,
   "metadata": {
    "collapsed": false
   },
   "outputs": [
    {
     "data": {
      "text/plain": [
       "<streams.core.Sink at 0x7fc06cb8f630>"
      ]
     },
     "execution_count": 12,
     "metadata": {},
     "output_type": "execute_result"
    }
   ],
   "source": [
    "source = Stream()\n",
    "stream = (source.map(json.loads)\n",
    "                .map(lambda x: x['value'])\n",
    "                .scan(add))\n",
    "stream.sink(print)\n",
    "stream.sink(L.append)"
   ]
  },
  {
   "cell_type": "code",
   "execution_count": 13,
   "metadata": {
    "collapsed": false
   },
   "outputs": [
    {
     "name": "stdout",
     "output_type": "stream",
     "text": [
      "3\n",
      "6\n",
      "10\n",
      "15\n",
      "21\n",
      "28\n"
     ]
    }
   ],
   "source": [
    "for line in data:\n",
    "    source.emit(line)"
   ]
  },
  {
   "cell_type": "code",
   "execution_count": 14,
   "metadata": {
    "collapsed": false
   },
   "outputs": [
    {
     "data": {
      "text/plain": [
       "[3, 6, 10, 15, 21, 28]"
      ]
     },
     "execution_count": 14,
     "metadata": {},
     "output_type": "execute_result"
    }
   ],
   "source": [
    "L"
   ]
  },
  {
   "cell_type": "code",
   "execution_count": 15,
   "metadata": {
    "collapsed": false,
    "scrolled": true
   },
   "outputs": [
    {
     "name": "stdout",
     "output_type": "stream",
     "text": [
      "128\n"
     ]
    }
   ],
   "source": [
    "source.emit('{\"name\": \"Charlie\", \"value\": 100}');"
   ]
  },
  {
   "cell_type": "code",
   "execution_count": 16,
   "metadata": {
    "collapsed": false
   },
   "outputs": [
    {
     "data": {
      "text/plain": [
       "[3, 6, 10, 15, 21, 28, 128]"
      ]
     },
     "execution_count": 16,
     "metadata": {},
     "output_type": "execute_result"
    }
   ],
   "source": [
    "L"
   ]
  },
  {
   "cell_type": "markdown",
   "metadata": {},
   "source": [
    "Dask\n",
    "===="
   ]
  },
  {
   "cell_type": "code",
   "execution_count": 17,
   "metadata": {
    "collapsed": true
   },
   "outputs": [],
   "source": [
    "from dask.distributed import Client\n",
    "client = Client(processes=False)"
   ]
  },
  {
   "cell_type": "code",
   "execution_count": 18,
   "metadata": {
    "collapsed": false
   },
   "outputs": [
    {
     "data": {
      "text/plain": [
       "<streams.core.Sink at 0x7fc048955240>"
      ]
     },
     "execution_count": 18,
     "metadata": {},
     "output_type": "execute_result"
    }
   ],
   "source": [
    "source = Stream()\n",
    "s = (source.to_dask()\n",
    "           .scatter()\n",
    "           .map(json.loads)\n",
    "           .map(lambda x: x['value'])\n",
    "           .scan(add)\n",
    "           .gather())\n",
    "s.sink(print)"
   ]
  },
  {
   "cell_type": "code",
   "execution_count": 19,
   "metadata": {
    "collapsed": false
   },
   "outputs": [
    {
     "name": "stdout",
     "output_type": "stream",
     "text": [
      "3\n",
      "6\n",
      "10\n",
      "15\n",
      "21\n",
      "28\n"
     ]
    }
   ],
   "source": [
    "for line in data:\n",
    "    source.emit(line)"
   ]
  },
  {
   "cell_type": "code",
   "execution_count": 20,
   "metadata": {
    "collapsed": false
   },
   "outputs": [
    {
     "name": "stdout",
     "output_type": "stream",
     "text": [
      "128\n",
      "228\n",
      "328\n",
      "428\n",
      "528\n",
      "628\n",
      "728\n",
      "828\n",
      "928\n",
      "1028\n"
     ]
    }
   ],
   "source": [
    "for i in range(10):\n",
    "    source.emit('{\"name\": \"Charlie\", \"value\": 100}')"
   ]
  },
  {
   "cell_type": "code",
   "execution_count": 21,
   "metadata": {
    "collapsed": false
   },
   "outputs": [
    {
     "name": "stdout",
     "output_type": "stream",
     "text": [
      "1128\n",
      "1228\n",
      "1328\n",
      "1428\n",
      "1528\n",
      "1628\n",
      "1728\n",
      "1828\n",
      "1928\n",
      "2028\n"
     ]
    }
   ],
   "source": [
    "from tornado import gen\n",
    "@gen.coroutine\n",
    "def f():\n",
    "    for i in range(10):\n",
    "        yield source.emit('{\"name\": \"Charlie\", \"value\": 100}')  # waits until sinks are ready\n",
    "        \n",
    "client.loop.add_callback(f)"
   ]
  },
  {
   "cell_type": "markdown",
   "metadata": {},
   "source": [
    "Questions\n",
    "======\n",
    "\n",
    "1.  Do we have current or upcoming use cases for this that we could use to drive development?\n",
    "2.  Do we know what standard practice is today?\n",
    "3.  Do we know Python users that are likely to give this a shot and provide feedback?\n"
   ]
  }
 ],
 "metadata": {
  "kernelspec": {
   "display_name": "Python 3",
   "language": "python",
   "name": "python3"
  },
  "language_info": {
   "codemirror_mode": {
    "name": "ipython",
    "version": 3
   },
   "file_extension": ".py",
   "mimetype": "text/x-python",
   "name": "python",
   "nbconvert_exporter": "python",
   "pygments_lexer": "ipython3",
   "version": "3.6.0"
  }
 },
 "nbformat": 4,
 "nbformat_minor": 2
}
